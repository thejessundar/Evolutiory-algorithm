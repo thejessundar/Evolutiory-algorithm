{
 "cells": [
  {
   "cell_type": "code",
   "execution_count": 12,
   "metadata": {},
   "outputs": [
    {
     "name": "stdout",
     "output_type": "stream",
     "text": [
      "(9141.844462680732, 1.7960362135510681, 4.777640564898674, -6.151074776106924)\n"
     ]
    },
    {
     "data": {
      "text/plain": [
       "(28.999999995941256-0.00010938711584887256j)"
      ]
     },
     "execution_count": 12,
     "metadata": {},
     "output_type": "execute_result"
    }
   ],
   "source": [
    "\n",
    "import random\n",
    "import math\n",
    "import numpy as np\n",
    "\n",
    "\n",
    "def f(x,y,z):\n",
    "    return x**6 - 0.2*y**2 + np.sin(z**(-y))\n",
    "\n",
    "\n",
    "def fitness(x,y,z):\n",
    "    ans = f(x,y,z) - 29\n",
    "\n",
    "    if ans == 0:\n",
    "        \n",
    "        return 10000000\n",
    "    else:\n",
    "        return abs(1/ans)\n",
    "\n",
    "    \n",
    "\n",
    "# Now we want to randomly select vals for x,y,z to start off the calculation\n",
    "\n",
    "# I'm gonna make lists for X,Y: these contain the last iteration of the solution to the equation.\n",
    "# every new element indicates a new iteration\n",
    "X = []\n",
    "Y = []\n",
    "Z = []\n",
    "X.append(random.uniform(-10,10))\n",
    "Y.append(random.uniform(-10,10))\n",
    "Z.append(random.uniform(-10,10))\n",
    "\n",
    "# print(X[0],Y[0],fitness(X[0],Y[0]))\n",
    "lst = []\n",
    "\n",
    "s = 1\n",
    "\n",
    "for iterations in range(0,100):\n",
    "    \n",
    "    for i in range(0,100):  # This is for number of iterations, later I'll modify this to stop when it reaches an appropriate fitness score    \n",
    "        lst.append((fitness(X[i],Y[i],Z[i]),X[i],Y[i],Z[i]))\n",
    "        X.append(X[i] + random.uniform(-s,s))\n",
    "        Y.append(Y[i] + random.uniform(-s,s))\n",
    "        Z.append(Z[i] + random.uniform(-s,s))\n",
    "\n",
    "    lst.sort()\n",
    "    lst.reverse()\n",
    "    best = lst[0]\n",
    "    # print(best[0])\n",
    "    lst.clear()\n",
    "    X.clear()\n",
    "    Y.clear()\n",
    "    Z.clear()\n",
    "    a,b,c,d = best\n",
    "    X.append(b)\n",
    "    Y.append(c)\n",
    "    Z.append(d)\n",
    "    s*=0.8\n",
    "\n",
    "print(best)\n",
    "f(b,c,d)\n",
    "\n"
   ]
  },
  {
   "cell_type": "code",
   "execution_count": null,
   "metadata": {},
   "outputs": [],
   "source": []
  },
  {
   "cell_type": "code",
   "execution_count": null,
   "metadata": {},
   "outputs": [],
   "source": []
  }
 ],
 "metadata": {
  "kernelspec": {
   "display_name": "Python 3.7.6",
   "language": "python",
   "name": "python3"
  },
  "language_info": {
   "codemirror_mode": {
    "name": "ipython",
    "version": 3
   },
   "file_extension": ".py",
   "mimetype": "text/x-python",
   "name": "python",
   "nbconvert_exporter": "python",
   "pygments_lexer": "ipython3",
   "version": "3.7.6 (default, Jan  8 2020, 13:42:34) \n[Clang 4.0.1 (tags/RELEASE_401/final)]"
  },
  "orig_nbformat": 4,
  "vscode": {
   "interpreter": {
    "hash": "f6e4c0ed3f646b1866b093ed1820348498bf1f60cdb4b9a3ecb58c14110ab849"
   }
  }
 },
 "nbformat": 4,
 "nbformat_minor": 2
}
